{
 "cells": [
  {
   "cell_type": "markdown",
   "id": "bf6beefa-f210-46a0-bd4a-603cb90f09c1",
   "metadata": {},
   "source": [
    "**Part 1: Wrangling our datasets**\n",
    "Taking a look into both dataset given and wrangling them so they are tidy.  \n",
    "Load our R packages"
   ]
  },
  {
   "cell_type": "code",
   "execution_count": null,
   "id": "bc921d4d-9421-4f97-aaf9-7f185bc2a53e",
   "metadata": {},
   "outputs": [],
   "source": [
    "library(tidyverse)"
   ]
  },
  {
   "cell_type": "markdown",
   "id": "5ce816de-bdcf-4c1d-ad98-99c101672a92",
   "metadata": {},
   "source": [
    "**Reading our datasets**"
   ]
  },
  {
   "cell_type": "code",
   "execution_count": null,
   "id": "12277efa-52d8-47c6-9402-7d632c9f18af",
   "metadata": {},
   "outputs": [],
   "source": [
    "players <- read_csv(\"data/players.csv\")\n",
    "players\n",
    "sessions <- read_csv(\"data/sessions.csv\")\n",
    "sessions"
   ]
  },
  {
   "cell_type": "markdown",
   "id": "25dde2bd-08ec-4681-9f84-24f8ccf43bdd",
   "metadata": {},
   "source": [
    "Focusing on the first player dataset, I want to select the variables that aligns to my question and goal."
   ]
  },
  {
   "cell_type": "code",
   "execution_count": null,
   "id": "c0e8e04e-f8b4-4e6c-8734-5f94e1e40281",
   "metadata": {},
   "outputs": [],
   "source": [
    "players_select <- players|>\n",
    "    select(experience, hashedEmail, played_hours, Age) |>\n",
    "    filter(Age != \"NA\")|>\n",
    "    filter(played_hours != 0.0)|>\n",
    "    mutate(experience = as.factor(experience))\n",
    "players_select"
   ]
  },
  {
   "cell_type": "code",
   "execution_count": null,
   "id": "9f10996f-ba60-458f-9cfb-b142c44d90e8",
   "metadata": {},
   "outputs": [],
   "source": [
    "avg_playtime<- players_select|>\n",
    "group_by(experience)|>\n",
    "summarize(avg_play = median(played_hours))\n",
    "avg_playtime"
   ]
  },
  {
   "cell_type": "code",
   "execution_count": null,
   "id": "00aeeacb-7735-4c11-9924-5894d963fa49",
   "metadata": {},
   "outputs": [],
   "source": [
    "avg_playtime<- players_select|>\n",
    "group_by(age)|>\n",
    "summarize(avg_play = median(played_hours))\n",
    "avg_playtime"
   ]
  },
  {
   "cell_type": "code",
   "execution_count": null,
   "id": "f21e80b3-078f-4f94-973b-b1e85bc1d464",
   "metadata": {},
   "outputs": [],
   "source": []
  }
 ],
 "metadata": {
  "kernelspec": {
   "display_name": "R",
   "language": "R",
   "name": "ir"
  },
  "language_info": {
   "codemirror_mode": "r",
   "file_extension": ".r",
   "mimetype": "text/x-r-source",
   "name": "R",
   "pygments_lexer": "r",
   "version": "4.3.3"
  }
 },
 "nbformat": 4,
 "nbformat_minor": 5
}
