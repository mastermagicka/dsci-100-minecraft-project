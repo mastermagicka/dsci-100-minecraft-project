{
 "cells": [
  {
   "cell_type": "markdown",
   "id": "bf6beefa-f210-46a0-bd4a-603cb90f09c1",
   "metadata": {},
   "source": [
    "# Minecraft: What kinds of players spend time on the server?\n",
    "This project looks at different players and their playtimes to see what kind of players enjoy spending more time on a minecraft server compared to other types of players.\n"
   ]
  },
  {
   "cell_type": "markdown",
   "id": "69ff4831-c472-44b8-ad4b-25a25e64a273",
   "metadata": {},
   "source": [
    "**Background:**\n",
    "Minecraft is a videogame where many people can play together in a world at totally different times and can be enjoyed by many different ages. In this project we focus on people with different types of experiences (skill level) with the game, age and time played using regression a type of tool to help with predictions of numerical variables.\n"
   ]
  },
  {
   "attachments": {},
   "cell_type": "markdown",
   "id": "266ed78d-7072-4c0f-9040-796007270aa7",
   "metadata": {},
   "source": [
    "**Question:**\n",
    "\n",
    "Can amount of Minecraft experience and age of a player predict the amount of playtime  in the players dataset?"
   ]
  },
  {
   "cell_type": "markdown",
   "id": "b72ea276-df35-4728-b742-164d94e02952",
   "metadata": {},
   "source": [
    "**Data Description:**\n",
    "The dataset used in this project is the players.csv dataset and the total number of observations (players) are 196. \n",
    "\n",
    "There are a total of 7 variables in the dataset.\n",
    "The variables are\n",
    "- experience: the type of experience with the game minecraft/skill level (character variable)\n",
    "- subscribe: if the player has subscribed to the newsletter or not (logical variable)\n",
    "- hashedEmail: emails of players that are hashed (character variable)\n",
    "- played_hours: amount of hours played on the server (double variable)\n",
    "- gender: gender of the player (character variable)\n",
    "- Age: age of the player (double variable)\n",
    "\n",
    "The data was collected from a Minecraft server set up by a group in Computer Science at UBC by recording play sessions of the players."
   ]
  },
  {
   "cell_type": "markdown",
   "id": "7d2087cc-59dc-4015-93f8-5a45e382d558",
   "metadata": {},
   "source": [
    "**Part 1: Wrangling our datasets**\n",
    "Taking a look into the players.csv dataset given and wrangling them so they are tidy and what is wanted.  \n",
    "Load our R packages"
   ]
  },
  {
   "cell_type": "code",
   "execution_count": null,
   "id": "bc921d4d-9421-4f97-aaf9-7f185bc2a53e",
   "metadata": {},
   "outputs": [],
   "source": [
    "library(tidyverse)\n",
    "library(ggplot2)\n",
    "library(dplyr)\n",
    "library(RColorBrewer)\n",
    "library(forcats)\n",
    "library(tidymodels)"
   ]
  },
  {
   "cell_type": "markdown",
   "id": "5ce816de-bdcf-4c1d-ad98-99c101672a92",
   "metadata": {},
   "source": [
    "**Reading our datasets**"
   ]
  },
  {
   "cell_type": "code",
   "execution_count": null,
   "id": "12277efa-52d8-47c6-9402-7d632c9f18af",
   "metadata": {},
   "outputs": [],
   "source": [
    "players <- read_csv(\"data/players.csv\")\n",
    "players"
   ]
  },
  {
   "cell_type": "markdown",
   "id": "25dde2bd-08ec-4681-9f84-24f8ccf43bdd",
   "metadata": {},
   "source": [
    "Focusing on the player.csv dataset, I want to select the variables that aligns to my question and goal which are the experience of the player, age, played_hours.\n",
    "\n",
    "Players who had no played_hours were also filtered out and focus on the players who went onto the server."
   ]
  },
  {
   "cell_type": "code",
   "execution_count": null,
   "id": "c0e8e04e-f8b4-4e6c-8734-5f94e1e40281",
   "metadata": {},
   "outputs": [],
   "source": [
    "players_select <- players|>\n",
    "    select(experience, played_hours, Age) |>\n",
    "    filter(Age != \"NA\")|>\n",
    "    filter(played_hours != 0.0)|>\n",
    "    mutate(experience = as.factor(experience))\n",
    "players_select"
   ]
  },
  {
   "cell_type": "markdown",
   "id": "f16dbd18-65b5-4e5b-8b11-3d44dab449fd",
   "metadata": {},
   "source": [
    "Average playtime for each type of experience was calulated to figure out which group of players had the most playtime on average.\n",
    "\n",
    "A count of the different types of players was also created based on average playtime and their experience using a barplot as average playtime is quantitative and experience is qualitative."
   ]
  },
  {
   "cell_type": "code",
   "execution_count": null,
   "id": "9f10996f-ba60-458f-9cfb-b142c44d90e8",
   "metadata": {},
   "outputs": [],
   "source": [
    "avg_playtime<- players_select|>\n",
    "group_by(experience)|>\n",
    "summarize(avg_play = median(played_hours))\n",
    "avg_playtime\n",
    "experience_count<- players_select|>\n",
    "group_by(experience)|>\n",
    "summarize(count = n())\n",
    "experience_count"
   ]
  },
  {
   "cell_type": "code",
   "execution_count": null,
   "id": "00aeeacb-7735-4c11-9924-5894d963fa49",
   "metadata": {},
   "outputs": [],
   "source": [
    "experience_bar<- avg_playtime |>\n",
    "ggplot(aes(y = avg_play, x = fct_reorder(experience, avg_play), fill = experience))+\n",
    "geom_bar(stat = \"identity\")+\n",
    "labs(x = \"Minecraft Experience\", y = \"Average Playtime (in hours)\", fill = \"Minecraft Experience\") +\n",
    "scale_fill_brewer(palette = \"BrBG\") +\n",
    "ggtitle(\"Average Playtime for Different Players (Fig 1)\")\n",
    "experience_bar"
   ]
  },
  {
   "cell_type": "code",
   "execution_count": null,
   "id": "d206e424-3dc8-4242-a65a-e96aacf20ab0",
   "metadata": {},
   "outputs": [],
   "source": [
    "ggplot(players_select, aes(x = experience, y = played_hours)) +\n",
    "  geom_boxplot() +\n",
    "  labs(x = \"Minecraft Experience\", y = \"Playtime (hours)\",\n",
    "       title = \"Playtime by Minecraft Experience\")"
   ]
  },
  {
   "cell_type": "markdown",
   "id": "5dd6450e-6adc-42d3-8ac1-e6c1de434b84",
   "metadata": {},
   "source": [
    "Looking at the Average Playtime for Different Players, it seems out of all the players who played on the Minecraft server, the type of player with the highest average playtime was beginners."
   ]
  },
  {
   "cell_type": "markdown",
   "id": "31e71c94-8b9f-4b92-a60f-684db8aba7f8",
   "metadata": {},
   "source": [
    "A scatterplot with played hours and age was created with the colours being the different experiences was created to see any trends with age and played hours as both hours played and age are both quantitative variables."
   ]
  },
  {
   "cell_type": "code",
   "execution_count": null,
   "id": "f21e80b3-078f-4f94-973b-b1e85bc1d464",
   "metadata": {},
   "outputs": [],
   "source": [
    "age_experience_plot<- players_select|>\n",
    "ggplot(aes(x= Age, y = played_hours, colour = experience))+\n",
    "    geom_point(alpha = 0.5)+\n",
    "    labs(x= \"Age (years)\", y = \"Hours Played\", colour = \"Minecraft Experience\")+\n",
    "    ggtitle(\"Hours Played vs Age (Fig 2)\")\n",
    "age_experience_plot"
   ]
  },
  {
   "cell_type": "markdown",
   "id": "98c3d720-b4da-4142-8eea-78b1f38df593",
   "metadata": {},
   "source": [
    "It seems like there there is no type of relationship between the number of hours played and the age of the player however, it seems there is a higher chance of a younger player (10 - 30) having more more than 10 hours of play time compared to older players (30+)"
   ]
  },
  {
   "cell_type": "markdown",
   "id": "1a1a2514-665d-45d3-9b44-ca91fbcc0350",
   "metadata": {},
   "source": [
    "Seeing as there does not seem to be a linear relationship, in order to try to predict hours played with the player's age, K-NN regression is used as the response variable that is needed is a numerical value. Some weaknesses of K-NN regression is that it does not do well with any new observations/players that are much older than 50 and if there is a lot of players in the training data it will become slow so that is why the players that have zero playtime was removed."
   ]
  },
  {
   "cell_type": "markdown",
   "id": "e48ff4b5-97e1-4560-a327-f7beee6e4ef1",
   "metadata": {},
   "source": [
    "The players.csv dataset was split into a training and testing set with a proportion of 75% to test the RMSE and RMSPE of our classifier and also use cross validiation using 5 folds to figure the best K to reduce the RMSPE with validation sets."
   ]
  },
  {
   "cell_type": "code",
   "execution_count": null,
   "id": "da37dac0-0717-43d5-bea0-8945daf6de0c",
   "metadata": {},
   "outputs": [],
   "source": [
    "set.seed(13)\n",
    "players_split<- initial_split(players_select, prop = 0.75, strata = played_hours)\n",
    "players_training<- training(players_split)\n",
    "players_testing<- testing(players_split)"
   ]
  },
  {
   "cell_type": "code",
   "execution_count": null,
   "id": "6a6fcca7-3046-4694-a23c-0438b5f33181",
   "metadata": {},
   "outputs": [],
   "source": [
    "players_knn <- nearest_neighbor(weight_func = \"rectangular\", neighbors = tune()) |> \n",
    "      set_engine(\"kknn\") |>\n",
    "      set_mode(\"regression\") \n",
    "\n",
    "players_recipe <- recipe(played_hours ~ Age, data = players_training) |>\n",
    "      step_scale(all_predictors()) |>\n",
    "      step_center(all_predictors())"
   ]
  },
  {
   "cell_type": "code",
   "execution_count": null,
   "id": "f95fb4ff-4f7d-4f51-87ca-86be2784cb9f",
   "metadata": {},
   "outputs": [],
   "source": [
    "players_vfold<- vfold_cv(players_training, v = 5, strata = played_hours)\n",
    "players_workflow<- workflow()|>\n",
    "    add_recipe(players_recipe)|>\n",
    "    add_model(players_knn)\n",
    "players_workflow"
   ]
  },
  {
   "cell_type": "code",
   "execution_count": null,
   "id": "f075f727-4d0a-438e-aded-dc1d4fc36300",
   "metadata": {},
   "outputs": [],
   "source": [
    "gridvals <- tibble(neighbors = seq(from = 1, to = 51, by = 10))\n",
    "players_results<- players_workflow|>\n",
    "                    tune_grid(resamples = players_vfold, grid = gridvals)|>\n",
    "                   collect_metrics()\n",
    "players_results"
   ]
  },
  {
   "cell_type": "code",
   "execution_count": null,
   "id": "20031f2e-ca6f-4ecb-8228-f48adc0b2c2d",
   "metadata": {},
   "outputs": [],
   "source": [
    "players_min <- players_results |>\n",
    "   filter(.metric == \"rmse\") |>\n",
    "   slice_min(mean, n = 1)\n",
    "players_min"
   ]
  },
  {
   "cell_type": "code",
   "execution_count": null,
   "id": "6e93e981-baf5-4004-9a14-253d20fcdeed",
   "metadata": {},
   "outputs": [],
   "source": [
    "k_min <- players_min |>\n",
    "         pull(neighbors)\n",
    "\n",
    "players_best_spec <- nearest_neighbor(weight_func = \"rectangular\", neighbors = k_min) |>\n",
    "         set_engine(\"kknn\") |>\n",
    "         set_mode(\"regression\")\n",
    "\n",
    "players_best_fit <- workflow() |>\n",
    "         add_recipe(players_recipe) |>\n",
    "         add_model(players_best_spec) |>\n",
    "         fit(data = players_training)\n",
    "\n",
    "players_summary <- players_best_fit |>\n",
    "          predict(players_testing) |>\n",
    "          bind_cols(players_testing) |>\n",
    "          metrics(truth = played_hours, estimate = .pred)\n",
    "players_summary"
   ]
  },
  {
   "cell_type": "markdown",
   "id": "16f74a25-29cc-41f1-b02e-bb8873faceb5",
   "metadata": {},
   "source": [
    "The RMSPE being 41 is not good at all, meaning the classifier is doing a bad job at making accurate predictions and some of the reasons might be how many outliers/players with super high playtime could be influencing it."
   ]
  },
  {
   "cell_type": "code",
   "execution_count": null,
   "id": "2bd8f28d-78b6-4f13-9b1b-fa59baf069c1",
   "metadata": {},
   "outputs": [],
   "source": [
    "options(repr.plot.width = 7, repr.plot.height = 7)\n",
    "\n",
    "# your code here\n",
    "players_preds<- players_best_fit|>\n",
    "    predict(players_training)|>\n",
    "    bind_cols(players_training)\n",
    "\n",
    "    players_plot<- ggplot(players_preds, aes(x = Age, y = played_hours))+\n",
    "        geom_point()+\n",
    "        geom_line(data = players_preds, mapping = aes(x = Age, y = .pred), color = \"blue\")+\n",
    "        labs(x = \"Age\", y = \"Time Played (in hours)\")+\n",
    "        ggtitle(\"Time Played vs Age of Player (Fig 3)\")\n",
    "players_plot"
   ]
  },
  {
   "cell_type": "code",
   "execution_count": null,
   "id": "3907895f-32f2-4136-8653-2e2529b70e98",
   "metadata": {},
   "outputs": [],
   "source": [
    "new_player<- tibble(Age = 20)\n",
    "predict(players_best_fit, new_player)"
   ]
  },
  {
   "cell_type": "markdown",
   "id": "4609dd75-f959-4d1b-a7bd-9ba2a4114fb7",
   "metadata": {},
   "source": [
    "# Discussion\n",
    "Answering the question of does amount of Minecraft experience and age predict the player's playtime, the answer is sort of inconclusive, we could say that beginners will have a higher playtime compared to other experiences.\n",
    "Looking at the players data set, I wanted to wrangle the data to look at the experience, age and playtime as it is what the question is focused on. Since there is a lot of data, I wanted to make it smaller so I filtered out all the players that had 0 playtime on the server.\n",
    "Since we have two variables we want to look at experience and age, I decided to do them seperately as a 3D visualization is not possible or nice to look at.\n",
    "\n",
    "First, to figure out how experience is related to playtime, I calculated the average playtime for each experience and then plot them in a barplot to compare. Looking at the barplot, it shows that Beginners have the highest average playtime while veterans have the lowest. This bar plot could tell u that beginners are the type of experiences to have higher playtimes compared to the others to could be due to many outliers with really high playtimes as they are learning to play the game."
   ]
  },
  {
   "cell_type": "code",
   "execution_count": null,
   "id": "d42b8be8-90f7-44df-8733-f3a87cfe9541",
   "metadata": {},
   "outputs": [],
   "source": []
  }
 ],
 "metadata": {
  "kernelspec": {
   "display_name": "R",
   "language": "R",
   "name": "ir"
  },
  "language_info": {
   "codemirror_mode": "r",
   "file_extension": ".r",
   "mimetype": "text/x-r-source",
   "name": "R",
   "pygments_lexer": "r",
   "version": "4.3.3"
  }
 },
 "nbformat": 4,
 "nbformat_minor": 5
}
