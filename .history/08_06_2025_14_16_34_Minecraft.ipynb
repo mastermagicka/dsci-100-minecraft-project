{
 "cells": [
  {
   "cell_type": "markdown",
   "id": "bf6beefa-f210-46a0-bd4a-603cb90f09c1",
   "metadata": {},
   "source": [
    "Part 1: Wrangling our datasets"
   ]
  }
 ],
 "metadata": {
  "kernelspec": {
   "display_name": "R",
   "language": "R",
   "name": "ir"
  },
  "language_info": {
   "codemirror_mode": "r",
   "file_extension": ".r",
   "mimetype": "text/x-r-source",
   "name": "R",
   "pygments_lexer": "r",
   "version": "4.3.3"
  }
 },
 "nbformat": 4,
 "nbformat_minor": 5
}
