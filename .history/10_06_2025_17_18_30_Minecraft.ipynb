{
 "cells": [
  {
   "cell_type": "markdown",
   "id": "bf6beefa-f210-46a0-bd4a-603cb90f09c1",
   "metadata": {},
   "source": [
    "**Part 1: Wrangling our datasets**\n",
    "Taking a look into both dataset given and wrangling them so they are tidy.  \n",
    "Load our R packages"
   ]
  },
  {
   "cell_type": "code",
   "execution_count": null,
   "id": "bc921d4d-9421-4f97-aaf9-7f185bc2a53e",
   "metadata": {},
   "outputs": [],
   "source": [
    "library(tidyverse)\n",
    "library(ggplot2)\n",
    "library(dplyr)\n",
    "library(RColorBrewer)\n",
    "library(forcats)\n",
    "library(tidymodels)"
   ]
  },
  {
   "cell_type": "markdown",
   "id": "5ce816de-bdcf-4c1d-ad98-99c101672a92",
   "metadata": {},
   "source": [
    "**Reading our datasets**"
   ]
  },
  {
   "cell_type": "code",
   "execution_count": null,
   "id": "12277efa-52d8-47c6-9402-7d632c9f18af",
   "metadata": {},
   "outputs": [],
   "source": [
    "players <- read_csv(\"data/players.csv\")\n",
    "players\n",
    "sessions <- read_csv(\"data/sessions.csv\")\n",
    "sessions"
   ]
  },
  {
   "cell_type": "markdown",
   "id": "25dde2bd-08ec-4681-9f84-24f8ccf43bdd",
   "metadata": {},
   "source": [
    "Focusing on the first player dataset, I want to select the variables that aligns to my question and goal."
   ]
  },
  {
   "cell_type": "code",
   "execution_count": null,
   "id": "c0e8e04e-f8b4-4e6c-8734-5f94e1e40281",
   "metadata": {},
   "outputs": [],
   "source": [
    "players_select <- players|>\n",
    "    select(experience, hashedEmail, played_hours, Age) |>\n",
    "    filter(Age != \"NA\")|>\n",
    "    filter(played_hours != 0.0)|>\n",
    "    mutate(experience = as.factor(experience))\n",
    "players_select"
   ]
  },
  {
   "cell_type": "code",
   "execution_count": null,
   "id": "9f10996f-ba60-458f-9cfb-b142c44d90e8",
   "metadata": {},
   "outputs": [],
   "source": [
    "avg_playtime<- players_select|>\n",
    "group_by(experience)|>\n",
    "summarize(avg_play = median(played_hours))\n",
    "avg_playtime\n",
    "experience_count<- players_select|>\n",
    "group_by(experience)|>\n",
    "summarize(count = n())\n",
    "experience_count"
   ]
  },
  {
   "cell_type": "code",
   "execution_count": null,
   "id": "00aeeacb-7735-4c11-9924-5894d963fa49",
   "metadata": {},
   "outputs": [],
   "source": [
    "experience_bar<- avg_playtime |>\n",
    "ggplot(aes(y = avg_play, x = fct_reorder(experience, avg_play), fill = experience))+\n",
    "geom_bar(stat = \"identity\")+\n",
    "labs(x = \"Minecraft Experience\", y = \"Average Playtime (in hours)\", fill = \"Minecraft Experience\") +\n",
    "scale_fill_brewer(palette = \"BrBG\") +\n",
    "ggtitle(\"Average Playtime for Different Players\")\n",
    "experience_bar"
   ]
  },
  {
   "cell_type": "code",
   "execution_count": null,
   "id": "f21e80b3-078f-4f94-973b-b1e85bc1d464",
   "metadata": {},
   "outputs": [],
   "source": [
    "age_experience_plot<- players_select|>\n",
    "ggplot(aes(x= Age, y = played_hours, colour = experience))+\n",
    "    geom_point(alpha = 0.5)+\n",
    "    labs(x= \"Age (years)\", y = \"Hours Played\", colour = \"Minecraft Experience\")+\n",
    "    ggtitle(\"Hours Played vs Age\")\n",
    "age_experience_plot"
   ]
  },
  {
   "cell_type": "code",
   "execution_count": null,
   "id": "da37dac0-0717-43d5-bea0-8945daf6de0c",
   "metadata": {},
   "outputs": [],
   "source": [
    "set.seed(13)\n",
    "players_split<- initial_split(players_select, prop = 0.75, strata = played_hours)\n",
    "players_training<- training(players_split)\n",
    "players_testing<- testing(players_split)"
   ]
  },
  {
   "cell_type": "code",
   "execution_count": null,
   "id": "6a6fcca7-3046-4694-a23c-0438b5f33181",
   "metadata": {},
   "outputs": [],
   "source": [
    "players_knn <- nearest_neighbor(weight_func = \"rectangular\", neighbors = tune()) |> \n",
    "      set_engine(\"kknn\") |>\n",
    "      set_mode(\"regression\") \n",
    "\n",
    "players_recipe <- recipe(played_hours ~ Age, data = players_training) |>\n",
    "      step_scale(all_predictors()) |>\n",
    "      step_center(all_predictors())"
   ]
  },
  {
   "cell_type": "code",
   "execution_count": null,
   "id": "f95fb4ff-4f7d-4f51-87ca-86be2784cb9f",
   "metadata": {},
   "outputs": [],
   "source": [
    "players_vfold<- vfold_cv(players_training, v = 5, strata = played_hours)\n",
    "players_workflow<- workflow()|>\n",
    "    add_recipe(players_recipe)|>\n",
    "    add_model(players_knn)\n",
    "players_workflow"
   ]
  },
  {
   "cell_type": "code",
   "execution_count": null,
   "id": "f075f727-4d0a-438e-aded-dc1d4fc36300",
   "metadata": {},
   "outputs": [],
   "source": [
    "gridvals <- tibble(neighbors = seq(from = 1, to = 51, by = 10))\n",
    "players_results<- players_workflow|>\n",
    "                    tune_grid(resamples = players_vfold, grid = gridvals)|>\n",
    "                   collect_metrics()\n",
    "players_results"
   ]
  },
  {
   "cell_type": "code",
   "execution_count": null,
   "id": "20031f2e-ca6f-4ecb-8228-f48adc0b2c2d",
   "metadata": {},
   "outputs": [],
   "source": [
    "players_min <- players_results |>\n",
    "   filter(.metric == \"rmse\") |>\n",
    "   slice_min(mean, n = 1)\n",
    "players_min"
   ]
  },
  {
   "cell_type": "code",
   "execution_count": null,
   "id": "6e93e981-baf5-4004-9a14-253d20fcdeed",
   "metadata": {},
   "outputs": [],
   "source": [
    "k_min <- players_min |>\n",
    "         pull(neighbors)\n",
    "\n",
    "players_best_spec <- nearest_neighbor(weight_func = \"rectangular\", neighbors = k_min) |>\n",
    "         set_engine(\"kknn\") |>\n",
    "         set_mode(\"regression\")\n",
    "\n",
    "players_best_fit <- workflow() |>\n",
    "         add_recipe(players_recipe) |>\n",
    "         add_model(players_best_spec) |>\n",
    "         fit(data = players_training)\n",
    "\n",
    "players_summary <- players_best_fit |>\n",
    "          predict(players_testing) |>\n",
    "          bind_cols(players_testing) |>\n",
    "          metrics(truth = played_hours, estimate = .pred)\n",
    "players_summary"
   ]
  },
  {
   "cell_type": "code",
   "execution_count": null,
   "id": "2bd8f28d-78b6-4f13-9b1b-fa59baf069c1",
   "metadata": {},
   "outputs": [],
   "source": [
    "options(repr.plot.width = 7, repr.plot.height = 7)\n",
    "\n",
    "# your code here\n",
    "players_preds<- players_best_fit|>\n",
    "    predict(players_training)|>\n",
    "    bind_cols(players_training)\n",
    "players_preds\n",
    "\n",
    "    players_plot<- ggplot(player_preds, aes(x = max, y = time_hrs))+\n",
    "        geom_point()+\n",
    "        geom_line(data = player_preds, mapping = aes(x = Age, y = .pred), color = \"blue\")+\n",
    "        labs(x = \"Age\", y = \"Time Played (in hours)\")+\n",
    "        ggtitle(\"Time Played vs Age of Player\")\n",
    "players_plot"
   ]
  },
  {
   "cell_type": "code",
   "execution_count": null,
   "id": "3907895f-32f2-4136-8653-2e2529b70e98",
   "metadata": {},
   "outputs": [],
   "source": []
  }
 ],
 "metadata": {
  "kernelspec": {
   "display_name": "R",
   "language": "R",
   "name": "ir"
  },
  "language_info": {
   "codemirror_mode": "r",
   "file_extension": ".r",
   "mimetype": "text/x-r-source",
   "name": "R",
   "pygments_lexer": "r",
   "version": "4.3.3"
  }
 },
 "nbformat": 4,
 "nbformat_minor": 5
}
